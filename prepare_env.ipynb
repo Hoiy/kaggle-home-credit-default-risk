{
  "nbformat": 4,
  "nbformat_minor": 0,
  "metadata": {
    "colab": {
      "name": "prepare_env.ipynb",
      "version": "0.3.2",
      "provenance": [],
      "collapsed_sections": [],
      "include_colab_link": true
    },
    "kernelspec": {
      "name": "python3",
      "display_name": "Python 3"
    },
    "accelerator": "GPU"
  },
  "cells": [
    {
      "cell_type": "markdown",
      "metadata": {
        "id": "view-in-github",
        "colab_type": "text"
      },
      "source": [
        "[View in Colaboratory](https://colab.research.google.com/github/Hoiy/kaggle-home-credit-default-risk/blob/master/prepare_env.ipynb)"
      ]
    },
    {
      "metadata": {
        "id": "OfX7dCsFsBWy",
        "colab_type": "code",
        "colab": {
          "base_uri": "https://localhost:8080/",
          "height": 68
        },
        "outputId": "3587dfaa-7c99-4842-9ea2-7b595ccb283e"
      },
      "cell_type": "code",
      "source": [
        "!rm .env\n",
        "!echo \"GCP_PROJECT_ID=kaggle-195702\" >> .env\n",
        "!echo \"GCP_BUCKET=kaggle-195720-home-credit-default-risk\" >> .env\n",
        "!cat .env"
      ],
      "execution_count": 1,
      "outputs": [
        {
          "output_type": "stream",
          "text": [
            "rm: cannot remove '.env': No such file or directory\n",
            "GCP_PROJECT_ID=kaggle-195702\n",
            "GCP_BUCKET=kaggle-195720-home-credit-default-risk\n"
          ],
          "name": "stdout"
        }
      ]
    },
    {
      "metadata": {
        "id": "RvC2NsEvQbkv",
        "colab_type": "code",
        "colab": {}
      },
      "cell_type": "code",
      "source": [
        "!pip -qq install python-dotenv kaggle pyarrow feather-format catboost xgboost ipywidgets matplotlib_venn tqdm lightgbm seaborn"
      ],
      "execution_count": 0,
      "outputs": []
    },
    {
      "metadata": {
        "id": "MDgMOXghsxxS",
        "colab_type": "code",
        "colab": {
          "base_uri": "https://localhost:8080/",
          "height": 34
        },
        "outputId": "8907da3a-446e-402f-d1ba-30c9c957d003"
      },
      "cell_type": "code",
      "source": [
        "import dotenv\n",
        "import os\n",
        "\n",
        "dotenv.load_dotenv('.env')"
      ],
      "execution_count": 3,
      "outputs": [
        {
          "output_type": "execute_result",
          "data": {
            "text/plain": [
              "True"
            ]
          },
          "metadata": {
            "tags": []
          },
          "execution_count": 3
        }
      ]
    },
    {
      "metadata": {
        "id": "GtNp41K2dla0",
        "colab_type": "code",
        "colab": {
          "base_uri": "https://localhost:8080/",
          "height": 85
        },
        "outputId": "09d4b844-9fd2-40cd-d3ba-15167f817c7c"
      },
      "cell_type": "code",
      "source": [
        "from google.colab import auth\n",
        "auth.authenticate_user()\n",
        "\n",
        "!gcloud config set project {os.environ['GCP_PROJECT_ID']}\n",
        "!gsutil cp gs://{os.environ['GCP_BUCKET']}/kaggle.json /content/.kaggle/kaggle.json\n",
        "!chmod 600 /content/.kaggle/kaggle.json"
      ],
      "execution_count": 4,
      "outputs": [
        {
          "output_type": "stream",
          "text": [
            "Updated property [core/project].\n",
            "Copying gs://kaggle-195720-home-credit-default-risk/kaggle.json...\n",
            "/ [1 files][  107.0 B/  107.0 B]                                                \n",
            "Operation completed over 1 objects/107.0 B.                                      \n"
          ],
          "name": "stdout"
        }
      ]
    },
    {
      "metadata": {
        "id": "vFl3xG0fHqZA",
        "colab_type": "code",
        "colab": {
          "base_uri": "https://localhost:8080/",
          "height": 697
        },
        "outputId": "684492e4-1cfd-464a-8c11-5675cc33966b"
      },
      "cell_type": "code",
      "source": [
        "!kaggle competitions download --path ./raw\n",
        "!unzip './raw/*.zip' -d ./raw"
      ],
      "execution_count": 0,
      "outputs": [
        {
          "output_type": "stream",
          "text": [
            "Using competition: home-credit-default-risk\n",
            "Warning: Looks like you're using an outdated API Version, please consider updating (server 1.4.4 / client 1.3.8)\n",
            "sample_submission.csv.zip: Downloaded 117KB of 117KB to ./raw\n",
            "application_test.csv.zip: Downloaded 6MB of 6MB to ./raw\n",
            "application_train.csv.zip: Downloaded 36MB of 36MB to ./raw\n",
            "bureau.csv.zip: Downloaded 37MB of 37MB to ./raw\n",
            "bureau_balance.csv.zip: Downloaded 57MB of 57MB to ./raw\n",
            "\n",
            "credit_card_balance.csv.zip: Downloaded 97MB of 97MB to ./raw\n",
            "POS_CASH_balance.csv.zip: Downloaded 109MB of 109MB to ./raw\n",
            "installments_payments.csv.zip: Downloaded 271MB of 271MB to ./raw\n",
            "HomeCredit_columns_description.csv: Downloaded 37KB of 37KB to ./raw\n",
            "Archive:  ./raw/bureau_balance.csv.zip\n",
            "  inflating: ./raw/bureau_balance.csv  \n",
            "\n",
            "Archive:  ./raw/application_train.csv.zip\n",
            "  inflating: ./raw/application_train.csv  \n",
            "\n",
            "Archive:  ./raw/credit_card_balance.csv.zip\n",
            "  inflating: ./raw/credit_card_balance.csv  \n",
            "\n",
            "Archive:  ./raw/application_test.csv.zip\n",
            "  inflating: ./raw/application_test.csv  \n",
            "\n",
            "Archive:  ./raw/installments_payments.csv.zip\n",
            "  inflating: ./raw/installments_payments.csv  \n",
            "\n",
            "Archive:  ./raw/POS_CASH_balance.csv.zip\n",
            "  inflating: ./raw/POS_CASH_balance.csv  \n",
            "\n",
            "Archive:  ./raw/bureau.csv.zip\n",
            "  inflating: ./raw/bureau.csv        \n",
            "\n",
            "Archive:  ./raw/previous_application.csv.zip\n",
            "  inflating: ./raw/previous_application.csv  \n",
            "\n",
            "Archive:  ./raw/sample_submission.csv.zip\n",
            "  inflating: ./raw/sample_submission.csv  \n",
            "\n",
            "9 archives were successfully processed.\n"
          ],
          "name": "stdout"
        }
      ]
    }
  ]
}